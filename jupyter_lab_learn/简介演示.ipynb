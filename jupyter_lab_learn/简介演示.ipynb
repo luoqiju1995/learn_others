{
 "cells": [
  {
   "cell_type": "code",
   "execution_count": 1,
   "id": "6981b46f-5a06-460b-821b-3b3f48edb23e",
   "metadata": {},
   "outputs": [
    {
     "name": "stdout",
     "output_type": "stream",
     "text": [
      " 驱动器 D 中的卷是 Data\n",
      " 卷的序列号是 46D7-4428\n",
      "\n",
      " D:\\workon\\jupyter_lab_project\\jupyter_lab_learn 的目录\n",
      "\n",
      "2024/04/10  10:57    <DIR>          .\n",
      "2024/04/10  10:21    <DIR>          ..\n",
      "2024/04/10  10:57    <DIR>          .ipynb_checkpoints\n",
      "2024/04/10  10:57                72 Untitled.ipynb\n",
      "2024/04/10  10:31                54 简介.txt\n",
      "               2 个文件            126 字节\n",
      "               3 个目录 86,910,062,592 可用字节\n"
     ]
    }
   ],
   "source": [
    "!dir"
   ]
  },
  {
   "cell_type": "code",
   "execution_count": 12,
   "id": "fb1c03d0-8ecb-474e-a474-c04e36d1c9b7",
   "metadata": {},
   "outputs": [
    {
     "data": {
      "text/latex": [
       "\\begin{equation}\n",
       "  \\int_0^\\infty\\frac{x^3}{e^x-1}\\,dx = \\frac{\\pi^4}{15}\n",
       "\\end{equation}\n"
      ],
      "text/plain": [
       "<IPython.core.display.Latex object>"
      ]
     },
     "metadata": {},
     "output_type": "display_data"
    }
   ],
   "source": [
    "%%latex\n",
    "\\begin{equation}\n",
    "  \\int_0^\\infty\\frac{x^3}{e^x-1}\\,dx = \\frac{\\pi^4}{15}\n",
    "\\end{equation}"
   ]
  },
  {
   "cell_type": "code",
   "execution_count": 3,
   "id": "2f9b6c20-32b0-4fb1-be5e-e9f9941d06a7",
   "metadata": {},
   "outputs": [
    {
     "name": "stdout",
     "output_type": "stream",
     "text": [
      "Looking in indexes: https://pypi.tuna.tsinghua.edu.cn/simple\n",
      "Collecting nodejs\n",
      "  Downloading https://pypi.tuna.tsinghua.edu.cn/packages/eb/ee/97ee0b973d072702eb2927c0eb90647cc0e4598663ed8e591c1ca4120dd9/nodejs-0.1.1.tar.gz (2.3 kB)\n",
      "  Preparing metadata (setup.py): started\n",
      "  Preparing metadata (setup.py): finished with status 'done'\n",
      "Collecting npm\n",
      "  Downloading https://pypi.tuna.tsinghua.edu.cn/packages/ca/4d/7d59d82b777f3f7a1128608195655a1b36c1de89c292363d53d52d92a807/npm-0.1.1.tar.gz (2.5 kB)\n",
      "  Preparing metadata (setup.py): started\n",
      "  Preparing metadata (setup.py): finished with status 'done'\n",
      "Collecting optional-django==0.1.0\n",
      "  Downloading https://pypi.tuna.tsinghua.edu.cn/packages/da/9e/b9b6a3854c613da94d695a2a52ca70ad1f0c65337c1b6e37f5f447964d19/optional-django-0.1.0.tar.gz (9.5 kB)\n",
      "  Preparing metadata (setup.py): started\n",
      "  Preparing metadata (setup.py): finished with status 'done'\n",
      "Building wheels for collected packages: nodejs, optional-django, npm\n",
      "  Building wheel for nodejs (setup.py): started\n",
      "  Building wheel for nodejs (setup.py): finished with status 'done'\n",
      "  Created wheel for nodejs: filename=nodejs-0.1.1-py3-none-any.whl size=3477 sha256=97c6294df12d1cc68d1fef4c10fc223785d52ee912d0d31558f04aed6be9e5fa\n",
      "  Stored in directory: c:\\users\\nevermore\\appdata\\local\\pip\\cache\\wheels\\c4\\4c\\3f\\3ab6d624eb87887faedcaa2e65eb388b67a76fe64940a39a11\n",
      "  Building wheel for optional-django (setup.py): started\n",
      "  Building wheel for optional-django (setup.py): finished with status 'done'\n",
      "  Created wheel for optional-django: filename=optional_django-0.1.0-py3-none-any.whl size=9958 sha256=1f9a87d57f3a504aed1880d60d043eb44890bd7a14e8b3ea4317f4f5fefa53c9\n",
      "  Stored in directory: c:\\users\\nevermore\\appdata\\local\\pip\\cache\\wheels\\14\\bc\\a6\\a4e77cb569b969e719124305045df40a17f51747f1c731d538\n",
      "  Building wheel for npm (setup.py): started\n",
      "  Building wheel for npm (setup.py): finished with status 'done'\n",
      "  Created wheel for npm: filename=npm-0.1.1-py3-none-any.whl size=3696 sha256=33db384a494506ecd7d46ba1622d5701d1bbf8c8d233b55a62c17caf21707569\n",
      "  Stored in directory: c:\\users\\nevermore\\appdata\\local\\pip\\cache\\wheels\\38\\39\\01\\df67286b581a395b1fbf69d353ae85417d3677cfb6868cf1be\n",
      "Successfully built nodejs optional-django npm\n",
      "Installing collected packages: optional-django, npm, nodejs\n",
      "Successfully installed nodejs-0.1.1 npm-0.1.1 optional-django-0.1.0\n"
     ]
    },
    {
     "name": "stderr",
     "output_type": "stream",
     "text": [
      "\n",
      "[notice] A new release of pip available: 22.3.1 -> 24.0\n",
      "[notice] To update, run: python.exe -m pip install --upgrade pip\n"
     ]
    }
   ],
   "source": [
    "!pip install nodejs npm -i https://pypi.tuna.tsinghua.edu.cn/simple"
   ]
  },
  {
   "cell_type": "code",
   "execution_count": null,
   "id": "044e5c15-e13d-4a5f-b858-4cf8df0a1944",
   "metadata": {},
   "outputs": [],
   "source": []
  }
 ],
 "metadata": {
  "kernelspec": {
   "display_name": "Python 3 (ipykernel)",
   "language": "python",
   "name": "python3"
  },
  "language_info": {
   "codemirror_mode": {
    "name": "ipython",
    "version": 3
   },
   "file_extension": ".py",
   "mimetype": "text/x-python",
   "name": "python",
   "nbconvert_exporter": "python",
   "pygments_lexer": "ipython3",
   "version": "3.11.4"
  }
 },
 "nbformat": 4,
 "nbformat_minor": 5
}
