{
 "cells": [
  {
   "cell_type": "code",
   "execution_count": 11,
   "id": "865b3069-f6ec-4ed3-ad5b-4ce36b8271b1",
   "metadata": {},
   "outputs": [
    {
     "data": {
      "text/latex": [
       "01. 这是$\\alpha+\\beta$表达式\n"
      ],
      "text/plain": [
       "<IPython.core.display.Latex object>"
      ]
     },
     "metadata": {},
     "output_type": "display_data"
    }
   ],
   "source": [
    "%%latex\n",
    "01. 这是$\\alpha+\\beta$表达式"
   ]
  },
  {
   "cell_type": "code",
   "execution_count": 25,
   "id": "2f24321c-5c26-46fc-a0dd-821f3343f53b",
   "metadata": {},
   "outputs": [
    {
     "data": {
      "text/latex": [
       "02.\n",
       "\\begin{equation}\n",
       "  \\alpha^2 + \\beta^2 = \\gamma^2\n",
       "\\end{equation}\n"
      ],
      "text/plain": [
       "<IPython.core.display.Latex object>"
      ]
     },
     "metadata": {},
     "output_type": "display_data"
    }
   ],
   "source": [
    "%%latex\n",
    "02.\n",
    "\\begin{equation}\n",
    "  \\alpha^2 + \\beta^2 = \\gamma^2\n",
    "\\end{equation}"
   ]
  },
  {
   "cell_type": "code",
   "execution_count": 27,
   "id": "43bbad3c-e2b3-4d04-a4f6-231634c5707f",
   "metadata": {},
   "outputs": [
    {
     "data": {
      "text/latex": [
       "03.\n",
       "\\[a^2 + b^2 = c^2\\]\n"
      ],
      "text/plain": [
       "<IPython.core.display.Latex object>"
      ]
     },
     "metadata": {},
     "output_type": "display_data"
    }
   ],
   "source": [
    "%%latex\n",
    "03.\n",
    "\\[a^2 + b^2 = c^2\\]"
   ]
  },
  {
   "cell_type": "code",
   "execution_count": 28,
   "id": "90c21b16-d956-4ae3-9261-db1b1dd35199",
   "metadata": {},
   "outputs": [
    {
     "data": {
      "text/latex": [
       "04.\n",
       "$$a^2 + b^2 = c^2$$\n"
      ],
      "text/plain": [
       "<IPython.core.display.Latex object>"
      ]
     },
     "metadata": {},
     "output_type": "display_data"
    }
   ],
   "source": [
    "%%latex\n",
    "04.\n",
    "$$a^2 + b^2 = c^2$$"
   ]
  },
  {
   "cell_type": "code",
   "execution_count": 29,
   "id": "c372dcd1-3990-41e8-9b19-24d576ff0dc9",
   "metadata": {},
   "outputs": [
    {
     "data": {
      "text/latex": [
       "05.\n",
       "\\begin{equation}\n",
       "    \\begin{split}\n",
       "        A+B+C+D+E\\\\\n",
       "        +F+G+H+I\\\\\n",
       "        +J+K+L+M = 1000000\n",
       "    \\end{split}\n",
       "\\end{equation}\n"
      ],
      "text/plain": [
       "<IPython.core.display.Latex object>"
      ]
     },
     "metadata": {},
     "output_type": "display_data"
    }
   ],
   "source": [
    "%%latex\n",
    "05.\n",
    "\\begin{equation}\n",
    "    \\begin{split}\n",
    "        A+B+C+D+E\\\\\n",
    "        +F+G+H+I\\\\\n",
    "        +J+K+L+M = 1000000\n",
    "    \\end{split}\n",
    "\\end{equation}"
   ]
  },
  {
   "cell_type": "code",
   "execution_count": 30,
   "id": "55c05cf5-5ea7-4b3b-abc3-6f402ce64c49",
   "metadata": {},
   "outputs": [
    {
     "data": {
      "text/latex": [
       "06.\n",
       "\\begin{equation}\n",
       "    \\begin{split}\n",
       "        &A+B+C+D+E\\\\\n",
       "        &+F+G+H+I\\\\\n",
       "        &+J+K+L+M = 1000000\n",
       "    \\end{split}\n",
       "\\end{equation}\n"
      ],
      "text/plain": [
       "<IPython.core.display.Latex object>"
      ]
     },
     "metadata": {},
     "output_type": "display_data"
    }
   ],
   "source": [
    "%%latex\n",
    "06.\n",
    "\\begin{equation}\n",
    "    \\begin{split}\n",
    "        &A+B+C+D+E\\\\\n",
    "        &+F+G+H+I\\\\\n",
    "        &+J+K+L+M = 1000000\n",
    "    \\end{split}\n",
    "\\end{equation}"
   ]
  },
  {
   "cell_type": "code",
   "execution_count": 32,
   "id": "3974144b-fceb-4258-8e59-6fac2c322635",
   "metadata": {},
   "outputs": [
    {
     "data": {
      "text/latex": [
       "07.\n",
       "\\begin{equation}\n",
       "  F(x) = \n",
       "  \\begin{cases}\n",
       "    0&,\\text{if $x<0$}\\\\\n",
       "    x+1&, \\text{if $x>0$}\\\\\n",
       "    1&, \\text{otherwise.}\n",
       "  \\end{cases}\n",
       "\\end{equation}\n"
      ],
      "text/plain": [
       "<IPython.core.display.Latex object>"
      ]
     },
     "metadata": {},
     "output_type": "display_data"
    }
   ],
   "source": [
    "%%latex\n",
    "07.\n",
    "\\begin{equation}\n",
    "  F(x) = \n",
    "  \\begin{cases}\n",
    "    0&,\\text{if $x<0$}\\\\\n",
    "    x+1&, \\text{if $x>0$}\\\\\n",
    "    1&, \\text{otherwise.}\n",
    "  \\end{cases}\n",
    "\\end{equation}"
   ]
  },
  {
   "cell_type": "code",
   "execution_count": null,
   "id": "14ba6b08-23f1-429e-bcdb-3dc58217f715",
   "metadata": {},
   "outputs": [],
   "source": []
  }
 ],
 "metadata": {
  "kernelspec": {
   "display_name": "Python 3 (ipykernel)",
   "language": "python",
   "name": "python3"
  },
  "language_info": {
   "codemirror_mode": {
    "name": "ipython",
    "version": 3
   },
   "file_extension": ".py",
   "mimetype": "text/x-python",
   "name": "python",
   "nbconvert_exporter": "python",
   "pygments_lexer": "ipython3",
   "version": "3.11.4"
  }
 },
 "nbformat": 4,
 "nbformat_minor": 5
}
